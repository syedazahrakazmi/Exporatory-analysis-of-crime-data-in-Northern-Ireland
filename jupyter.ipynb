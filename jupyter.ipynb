{
 "cells": [
  {
   "cell_type": "code",
   "execution_count": 27,
   "id": "31588dc0",
   "metadata": {},
   "outputs": [
    {
     "name": "stdout",
     "output_type": "stream",
     "text": [
      "Collecting pysal==2.7.0\n",
      "  Using cached pysal-2.7.0-py3-none-any.whl (17 kB)\n",
      "Requirement already satisfied: spint>=1.0.7 in c:\\users\\zahra\\anaconda3\\envs\\egm2022\\lib\\site-packages (from pysal==2.7.0) (1.0.7)\n",
      "Requirement already satisfied: libpysal>=4.6.2 in c:\\users\\zahra\\anaconda3\\envs\\egm2022\\lib\\site-packages (from pysal==2.7.0) (4.6.2)\n",
      "Requirement already satisfied: spreg>=1.2.4 in c:\\users\\zahra\\anaconda3\\envs\\egm2022\\lib\\site-packages (from pysal==2.7.0) (1.2.4)\n",
      "Requirement already satisfied: access>=1.1.8 in c:\\users\\zahra\\anaconda3\\envs\\egm2022\\lib\\site-packages (from pysal==2.7.0) (1.1.8)\n",
      "Collecting momepy>=0.5.3\n",
      "  Using cached momepy-0.5.3-py3-none-any.whl (243 kB)\n",
      "Requirement already satisfied: giddy>=2.3.3 in c:\\users\\zahra\\anaconda3\\envs\\egm2022\\lib\\site-packages (from pysal==2.7.0) (2.3.3)\n",
      "Collecting spopt>=0.4.1\n",
      "  Using cached spopt-0.4.1-py3-none-any.whl (84 kB)\n",
      "Requirement already satisfied: inequality>=1.0.0 in c:\\users\\zahra\\anaconda3\\envs\\egm2022\\lib\\site-packages (from pysal==2.7.0) (1.0.0)\n",
      "Requirement already satisfied: spvcm>=0.3.0 in c:\\users\\zahra\\anaconda3\\envs\\egm2022\\lib\\site-packages (from pysal==2.7.0) (0.3.0)\n",
      "Requirement already satisfied: mapclassify>=2.4.3 in c:\\users\\zahra\\anaconda3\\envs\\egm2022\\lib\\site-packages (from pysal==2.7.0) (2.4.3)\n",
      "Requirement already satisfied: mgwr>=2.1.2 in c:\\users\\zahra\\anaconda3\\envs\\egm2022\\lib\\site-packages (from pysal==2.7.0) (2.1.2)\n",
      "Collecting segregation>=2.3.1\n",
      "  Using cached segregation-2.3.1-py3-none-any.whl (147 kB)\n",
      "Requirement already satisfied: spglm>=1.0.8 in c:\\users\\zahra\\anaconda3\\envs\\egm2022\\lib\\site-packages (from pysal==2.7.0) (1.0.8)\n",
      "Requirement already satisfied: spaghetti>=1.6.6 in c:\\users\\zahra\\anaconda3\\envs\\egm2022\\lib\\site-packages (from pysal==2.7.0) (1.6.6)\n",
      "Collecting tobler>=0.8.2\n",
      "  Using cached tobler-0.9.0-py3-none-any.whl (22 kB)\n",
      "Requirement already satisfied: esda>=2.4.1 in c:\\users\\zahra\\anaconda3\\envs\\egm2022\\lib\\site-packages (from pysal==2.7.0) (2.4.3)\n",
      "Requirement already satisfied: splot>=1.1.5.post1 in c:\\users\\zahra\\anaconda3\\envs\\egm2022\\lib\\site-packages (from pysal==2.7.0) (1.1.5.post1)\n",
      "Requirement already satisfied: pointpats>=2.2.0 in c:\\users\\zahra\\anaconda3\\envs\\egm2022\\lib\\site-packages (from pysal==2.7.0) (2.2.0)\n",
      "Requirement already satisfied: geopandas in c:\\users\\zahra\\anaconda3\\envs\\egm2022\\lib\\site-packages (from access>=1.1.8->pysal==2.7.0) (0.9.0)\n",
      "Requirement already satisfied: pandas>=0.23.4 in c:\\users\\zahra\\anaconda3\\envs\\egm2022\\lib\\site-packages (from access>=1.1.8->pysal==2.7.0) (1.3.5)\n",
      "Requirement already satisfied: numpy>=1.3 in c:\\users\\zahra\\anaconda3\\envs\\egm2022\\lib\\site-packages (from access>=1.1.8->pysal==2.7.0) (1.22.3)\n",
      "Requirement already satisfied: requests>=2 in c:\\users\\zahra\\anaconda3\\envs\\egm2022\\lib\\site-packages (from access>=1.1.8->pysal==2.7.0) (2.28.1)\n",
      "Requirement already satisfied: scikit-learn in c:\\users\\zahra\\anaconda3\\envs\\egm2022\\lib\\site-packages (from esda>=2.4.1->pysal==2.7.0) (1.1.1)\n",
      "Requirement already satisfied: scipy>=0.11 in c:\\users\\zahra\\anaconda3\\envs\\egm2022\\lib\\site-packages (from esda>=2.4.1->pysal==2.7.0) (1.8.1)\n",
      "Requirement already satisfied: quantecon>=0.4.7 in c:\\users\\zahra\\anaconda3\\envs\\egm2022\\lib\\site-packages (from giddy>=2.3.3->pysal==2.7.0) (0.5.3)\n",
      "Requirement already satisfied: packaging in c:\\users\\zahra\\anaconda3\\envs\\egm2022\\lib\\site-packages (from libpysal>=4.6.2->pysal==2.7.0) (21.3)\n",
      "Requirement already satisfied: appdirs in c:\\users\\zahra\\anaconda3\\envs\\egm2022\\lib\\site-packages (from libpysal>=4.6.2->pysal==2.7.0) (1.4.4)\n",
      "Requirement already satisfied: jinja2 in c:\\users\\zahra\\anaconda3\\envs\\egm2022\\lib\\site-packages (from libpysal>=4.6.2->pysal==2.7.0) (3.1.2)\n",
      "Requirement already satisfied: beautifulsoup4 in c:\\users\\zahra\\anaconda3\\envs\\egm2022\\lib\\site-packages (from libpysal>=4.6.2->pysal==2.7.0) (4.11.1)\n",
      "Requirement already satisfied: networkx in c:\\users\\zahra\\anaconda3\\envs\\egm2022\\lib\\site-packages (from mapclassify>=2.4.3->pysal==2.7.0) (2.8.4)\n",
      "Requirement already satisfied: pygeos in c:\\users\\zahra\\anaconda3\\envs\\egm2022\\lib\\site-packages (from momepy>=0.5.3->pysal==2.7.0) (0.13)\n",
      "Requirement already satisfied: tqdm>=4.27.0 in c:\\users\\zahra\\anaconda3\\envs\\egm2022\\lib\\site-packages (from momepy>=0.5.3->pysal==2.7.0) (4.64.1)\n",
      "Requirement already satisfied: matplotlib in c:\\users\\zahra\\anaconda3\\envs\\egm2022\\lib\\site-packages (from pointpats>=2.2.0->pysal==2.7.0) (3.5.2)\n",
      "Requirement already satisfied: opencv-contrib-python>=4.2.0 in c:\\users\\zahra\\anaconda3\\envs\\egm2022\\lib\\site-packages (from pointpats>=2.2.0->pysal==2.7.0) (4.6.0.66)\n",
      "Requirement already satisfied: seaborn in c:\\users\\zahra\\anaconda3\\envs\\egm2022\\lib\\site-packages (from segregation>=2.3.1->pysal==2.7.0) (0.12.0)\n",
      "Requirement already satisfied: numba in c:\\users\\zahra\\anaconda3\\envs\\egm2022\\lib\\site-packages (from segregation>=2.3.1->pysal==2.7.0) (0.56.2)\n",
      "Collecting rvlib>=0.0.5\n",
      "  Using cached rvlib-0.0.6.tar.gz (183 kB)\n",
      "  Preparing metadata (setup.py): started\n",
      "  Preparing metadata (setup.py): finished with status 'done'\n",
      "Collecting quilt3\n",
      "  Using cached quilt3-5.0.0-py3-none-any.whl (78 kB)\n",
      "Requirement already satisfied: deprecation in c:\\users\\zahra\\anaconda3\\envs\\egm2022\\lib\\site-packages (from segregation>=2.3.1->pysal==2.7.0) (2.1.0)\n",
      "Requirement already satisfied: joblib in c:\\users\\zahra\\anaconda3\\envs\\egm2022\\lib\\site-packages (from segregation>=2.3.1->pysal==2.7.0) (1.1.0)\n",
      "Requirement already satisfied: pip in c:\\users\\zahra\\anaconda3\\envs\\egm2022\\lib\\site-packages (from segregation>=2.3.1->pysal==2.7.0) (22.1.2)\n",
      "Requirement already satisfied: pyproj>=3 in c:\\users\\zahra\\anaconda3\\envs\\egm2022\\lib\\site-packages (from segregation>=2.3.1->pysal==2.7.0) (3.1.0)\n",
      "Requirement already satisfied: rtree in c:\\users\\zahra\\anaconda3\\envs\\egm2022\\lib\\site-packages (from spaghetti>=1.6.6->pysal==2.7.0) (1.0.0)\n",
      "Requirement already satisfied: pulp in c:\\users\\zahra\\anaconda3\\envs\\egm2022\\lib\\site-packages (from spopt>=0.4.1->pysal==2.7.0) (2.6.0)\n",
      "Requirement already satisfied: rasterstats in c:\\users\\zahra\\anaconda3\\envs\\egm2022\\lib\\site-packages (from tobler>=0.8.2->pysal==2.7.0) (0.17.0)\n",
      "Requirement already satisfied: rasterio in c:\\users\\zahra\\anaconda3\\envs\\egm2022\\lib\\site-packages (from tobler>=0.8.2->pysal==2.7.0) (1.2.0)\n",
      "Requirement already satisfied: statsmodels in c:\\users\\zahra\\anaconda3\\envs\\egm2022\\lib\\site-packages (from tobler>=0.8.2->pysal==2.7.0) (0.13.2)\n",
      "Requirement already satisfied: fiona>=1.8 in c:\\users\\zahra\\anaconda3\\envs\\egm2022\\lib\\site-packages (from geopandas->access>=1.1.8->pysal==2.7.0) (1.8.18)\n",
      "Requirement already satisfied: shapely>=1.6 in c:\\users\\zahra\\anaconda3\\envs\\egm2022\\lib\\site-packages (from geopandas->access>=1.1.8->pysal==2.7.0) (1.8.0)\n",
      "Requirement already satisfied: python-dateutil>=2.7.3 in c:\\users\\zahra\\anaconda3\\envs\\egm2022\\lib\\site-packages (from pandas>=0.23.4->access>=1.1.8->pysal==2.7.0) (2.8.0)\n",
      "Requirement already satisfied: pytz>=2017.3 in c:\\users\\zahra\\anaconda3\\envs\\egm2022\\lib\\site-packages (from pandas>=0.23.4->access>=1.1.8->pysal==2.7.0) (2022.1)\n",
      "Requirement already satisfied: certifi in c:\\users\\zahra\\anaconda3\\envs\\egm2022\\lib\\site-packages (from pyproj>=3->segregation>=2.3.1->pysal==2.7.0) (2022.6.15)\n",
      "Requirement already satisfied: sympy in c:\\users\\zahra\\anaconda3\\envs\\egm2022\\lib\\site-packages (from quantecon>=0.4.7->giddy>=2.3.3->pysal==2.7.0) (1.11.1)\n",
      "Requirement already satisfied: charset-normalizer<3,>=2 in c:\\users\\zahra\\anaconda3\\envs\\egm2022\\lib\\site-packages (from requests>=2->access>=1.1.8->pysal==2.7.0) (2.1.1)\n",
      "Requirement already satisfied: idna<4,>=2.5 in c:\\users\\zahra\\anaconda3\\envs\\egm2022\\lib\\site-packages (from requests>=2->access>=1.1.8->pysal==2.7.0) (3.3)\n",
      "Requirement already satisfied: urllib3<1.27,>=1.21.1 in c:\\users\\zahra\\anaconda3\\envs\\egm2022\\lib\\site-packages (from requests>=2->access>=1.1.8->pysal==2.7.0) (1.26.12)\n",
      "Requirement already satisfied: cffi>=1.0.0 in c:\\users\\zahra\\anaconda3\\envs\\egm2022\\lib\\site-packages (from rvlib>=0.0.5->segregation>=2.3.1->pysal==2.7.0) (1.15.1)\n",
      "Requirement already satisfied: PyYAML in c:\\users\\zahra\\anaconda3\\envs\\egm2022\\lib\\site-packages (from rvlib>=0.0.5->segregation>=2.3.1->pysal==2.7.0) (6.0)\n",
      "Requirement already satisfied: importlib-metadata in c:\\users\\zahra\\anaconda3\\envs\\egm2022\\lib\\site-packages (from numba->segregation>=2.3.1->pysal==2.7.0) (4.11.4)\n",
      "Requirement already satisfied: llvmlite<0.40,>=0.39.0dev0 in c:\\users\\zahra\\anaconda3\\envs\\egm2022\\lib\\site-packages (from numba->segregation>=2.3.1->pysal==2.7.0) (0.39.1)\n",
      "Requirement already satisfied: setuptools<60 in c:\\users\\zahra\\anaconda3\\envs\\egm2022\\lib\\site-packages (from numba->segregation>=2.3.1->pysal==2.7.0) (59.8.0)\n",
      "Requirement already satisfied: threadpoolctl>=2.0.0 in c:\\users\\zahra\\anaconda3\\envs\\egm2022\\lib\\site-packages (from scikit-learn->esda>=2.4.1->pysal==2.7.0) (3.1.0)\n",
      "Requirement already satisfied: colorama in c:\\users\\zahra\\anaconda3\\envs\\egm2022\\lib\\site-packages (from tqdm>=4.27.0->momepy>=0.5.3->pysal==2.7.0) (0.4.5)\n",
      "Requirement already satisfied: soupsieve>1.2 in c:\\users\\zahra\\anaconda3\\envs\\egm2022\\lib\\site-packages (from beautifulsoup4->libpysal>=4.6.2->pysal==2.7.0) (2.3.1)\n",
      "Requirement already satisfied: MarkupSafe>=2.0 in c:\\users\\zahra\\anaconda3\\envs\\egm2022\\lib\\site-packages (from jinja2->libpysal>=4.6.2->pysal==2.7.0) (2.1.1)\n",
      "Requirement already satisfied: cycler>=0.10 in c:\\users\\zahra\\anaconda3\\envs\\egm2022\\lib\\site-packages (from matplotlib->pointpats>=2.2.0->pysal==2.7.0) (0.11.0)\n",
      "Requirement already satisfied: fonttools>=4.22.0 in c:\\users\\zahra\\anaconda3\\envs\\egm2022\\lib\\site-packages (from matplotlib->pointpats>=2.2.0->pysal==2.7.0) (4.33.3)\n",
      "Requirement already satisfied: pyparsing>=2.2.1 in c:\\users\\zahra\\anaconda3\\envs\\egm2022\\lib\\site-packages (from matplotlib->pointpats>=2.2.0->pysal==2.7.0) (3.0.9)\n",
      "Requirement already satisfied: pillow>=6.2.0 in c:\\users\\zahra\\anaconda3\\envs\\egm2022\\lib\\site-packages (from matplotlib->pointpats>=2.2.0->pysal==2.7.0) (8.2.0)\n",
      "Requirement already satisfied: kiwisolver>=1.0.1 in c:\\users\\zahra\\anaconda3\\envs\\egm2022\\lib\\site-packages (from matplotlib->pointpats>=2.2.0->pysal==2.7.0) (1.4.3)\n",
      "Requirement already satisfied: jsonschema<5,>=3 in c:\\users\\zahra\\anaconda3\\envs\\egm2022\\lib\\site-packages (from quilt3->segregation>=2.3.1->pysal==2.7.0) (4.6.1)\n",
      "Requirement already satisfied: aws-requests-auth>=0.4.2 in c:\\users\\zahra\\anaconda3\\envs\\egm2022\\lib\\site-packages (from quilt3->segregation>=2.3.1->pysal==2.7.0) (0.4.3)\n",
      "Requirement already satisfied: jsonlines==1.2.0 in c:\\users\\zahra\\anaconda3\\envs\\egm2022\\lib\\site-packages (from quilt3->segregation>=2.3.1->pysal==2.7.0) (1.2.0)\n",
      "Collecting boto3>=1.10.0\n",
      "  Downloading boto3-1.24.72-py3-none-any.whl (132 kB)\n",
      "     -------------------------------------- 132.5/132.5 kB 2.0 MB/s eta 0:00:00\n",
      "Requirement already satisfied: requests-futures==1.0.0 in c:\\users\\zahra\\anaconda3\\envs\\egm2022\\lib\\site-packages (from quilt3->segregation>=2.3.1->pysal==2.7.0) (1.0.0)\n",
      "Requirement already satisfied: tenacity>=5.1.1 in c:\\users\\zahra\\anaconda3\\envs\\egm2022\\lib\\site-packages (from quilt3->segregation>=2.3.1->pysal==2.7.0) (8.0.1)\n",
      "Requirement already satisfied: six in c:\\users\\zahra\\anaconda3\\envs\\egm2022\\lib\\site-packages (from jsonlines==1.2.0->quilt3->segregation>=2.3.1->pysal==2.7.0) (1.16.0)\n",
      "Requirement already satisfied: affine in c:\\users\\zahra\\anaconda3\\envs\\egm2022\\lib\\site-packages (from rasterio->tobler>=0.8.2->pysal==2.7.0) (2.3.1)\n",
      "Requirement already satisfied: attrs in c:\\users\\zahra\\anaconda3\\envs\\egm2022\\lib\\site-packages (from rasterio->tobler>=0.8.2->pysal==2.7.0) (21.4.0)\n",
      "Requirement already satisfied: click<8,>=4.0 in c:\\users\\zahra\\anaconda3\\envs\\egm2022\\lib\\site-packages (from rasterio->tobler>=0.8.2->pysal==2.7.0) (7.1.2)\n",
      "Requirement already satisfied: cligj>=0.5 in c:\\users\\zahra\\anaconda3\\envs\\egm2022\\lib\\site-packages (from rasterio->tobler>=0.8.2->pysal==2.7.0) (0.7.2)\n",
      "Requirement already satisfied: snuggs>=1.4.1 in c:\\users\\zahra\\anaconda3\\envs\\egm2022\\lib\\site-packages (from rasterio->tobler>=0.8.2->pysal==2.7.0) (1.4.7)\n",
      "Requirement already satisfied: click-plugins in c:\\users\\zahra\\anaconda3\\envs\\egm2022\\lib\\site-packages (from rasterio->tobler>=0.8.2->pysal==2.7.0) (1.1.1)\n",
      "Requirement already satisfied: simplejson in c:\\users\\zahra\\anaconda3\\envs\\egm2022\\lib\\site-packages (from rasterstats->tobler>=0.8.2->pysal==2.7.0) (3.17.6)\n",
      "Requirement already satisfied: patsy>=0.5.2 in c:\\users\\zahra\\anaconda3\\envs\\egm2022\\lib\\site-packages (from statsmodels->tobler>=0.8.2->pysal==2.7.0) (0.5.2)\n",
      "Requirement already satisfied: s3transfer<0.7.0,>=0.6.0 in c:\\users\\zahra\\anaconda3\\envs\\egm2022\\lib\\site-packages (from boto3>=1.10.0->quilt3->segregation>=2.3.1->pysal==2.7.0) (0.6.0)\n",
      "Collecting botocore<1.28.0,>=1.27.72\n",
      "  Downloading botocore-1.27.72-py3-none-any.whl (9.1 MB)\n",
      "     ---------------------------------------- 9.1/9.1 MB 6.0 MB/s eta 0:00:00\n",
      "Requirement already satisfied: jmespath<2.0.0,>=0.7.1 in c:\\users\\zahra\\anaconda3\\envs\\egm2022\\lib\\site-packages (from boto3>=1.10.0->quilt3->segregation>=2.3.1->pysal==2.7.0) (1.0.1)\n",
      "Requirement already satisfied: pycparser in c:\\users\\zahra\\anaconda3\\envs\\egm2022\\lib\\site-packages (from cffi>=1.0.0->rvlib>=0.0.5->segregation>=2.3.1->pysal==2.7.0) (2.21)\n",
      "Requirement already satisfied: munch in c:\\users\\zahra\\anaconda3\\envs\\egm2022\\lib\\site-packages (from fiona>=1.8->geopandas->access>=1.1.8->pysal==2.7.0) (2.5.0)\n",
      "Requirement already satisfied: importlib-resources>=1.4.0 in c:\\users\\zahra\\anaconda3\\envs\\egm2022\\lib\\site-packages (from jsonschema<5,>=3->quilt3->segregation>=2.3.1->pysal==2.7.0) (5.8.0)\n",
      "Requirement already satisfied: pyrsistent!=0.17.0,!=0.17.1,!=0.17.2,>=0.14.0 in c:\\users\\zahra\\anaconda3\\envs\\egm2022\\lib\\site-packages (from jsonschema<5,>=3->quilt3->segregation>=2.3.1->pysal==2.7.0) (0.18.1)\n",
      "Requirement already satisfied: zipp>=0.5 in c:\\users\\zahra\\anaconda3\\envs\\egm2022\\lib\\site-packages (from importlib-metadata->numba->segregation>=2.3.1->pysal==2.7.0) (3.8.0)\n",
      "Requirement already satisfied: mpmath>=0.19 in c:\\users\\zahra\\anaconda3\\envs\\egm2022\\lib\\site-packages (from sympy->quantecon>=0.4.7->giddy>=2.3.3->pysal==2.7.0) (1.2.1)\n",
      "Building wheels for collected packages: rvlib\n",
      "  Building wheel for rvlib (setup.py): started\n",
      "  Building wheel for rvlib (setup.py): finished with status 'error'\n",
      "  Running setup.py clean for rvlib\n",
      "Failed to build rvlib\n",
      "Installing collected packages: botocore, rvlib, tobler, momepy, boto3, quilt3, spopt, segregation, pysal\n",
      "  Attempting uninstall: botocore\n",
      "    Found existing installation: botocore 1.27.71\n",
      "    Uninstalling botocore-1.27.71:\n",
      "      Successfully uninstalled botocore-1.27.71\n",
      "  Running setup.py install for rvlib: started\n",
      "  Running setup.py install for rvlib: finished with status 'error'\n"
     ]
    },
    {
     "name": "stderr",
     "output_type": "stream",
     "text": [
      "  error: subprocess-exited-with-error\n",
      "  \n",
      "  python setup.py bdist_wheel did not run successfully.\n",
      "  exit code: 1\n",
      "  \n",
      "  [26 lines of output]\n",
      "  running bdist_wheel\n",
      "  running build\n",
      "  running build_py\n",
      "  creating build\n",
      "  creating build\\lib.win-amd64-3.8\n",
      "  creating build\\lib.win-amd64-3.8\\rvlib\n",
      "  copying rvlib\\specials.py -> build\\lib.win-amd64-3.8\\rvlib\n",
      "  copying rvlib\\univariate.py -> build\\lib.win-amd64-3.8\\rvlib\n",
      "  copying rvlib\\version.py -> build\\lib.win-amd64-3.8\\rvlib\n",
      "  copying rvlib\\__init__.py -> build\\lib.win-amd64-3.8\\rvlib\n",
      "  running egg_info\n",
      "  writing rvlib.egg-info\\PKG-INFO\n",
      "  writing dependency_links to rvlib.egg-info\\dependency_links.txt\n",
      "  writing requirements to rvlib.egg-info\\requires.txt\n",
      "  writing top-level names to rvlib.egg-info\\top_level.txt\n",
      "  reading manifest file 'rvlib.egg-info\\SOURCES.txt'\n",
      "  reading manifest template 'MANIFEST.in'\n",
      "  adding license file 'LICENSE.txt'\n",
      "  writing manifest file 'rvlib.egg-info\\SOURCES.txt'\n",
      "  copying rvlib\\metadata.yaml -> build\\lib.win-amd64-3.8\\rvlib\n",
      "  running build_ext\n",
      "  generating cffi module 'build\\\\temp.win-amd64-3.8\\\\Release\\\\rvlib._rmath_ffi.c'\n",
      "  creating build\\temp.win-amd64-3.8\n",
      "  creating build\\temp.win-amd64-3.8\\Release\n",
      "  building 'rvlib._rmath_ffi' extension\n",
      "  error: Microsoft Visual C++ 14.0 or greater is required. Get it with \"Microsoft C++ Build Tools\": https://visualstudio.microsoft.com/visual-cpp-build-tools/\n",
      "  [end of output]\n",
      "  \n",
      "  note: This error originates from a subprocess, and is likely not a problem with pip.\n",
      "  ERROR: Failed building wheel for rvlib\n",
      "  error: subprocess-exited-with-error\n",
      "  \n",
      "  Running setup.py install for rvlib did not run successfully.\n",
      "  exit code: 1\n",
      "  \n",
      "  [28 lines of output]\n",
      "  running install\n",
      "  C:\\Users\\zahra\\anaconda3\\envs\\Egm2022\\lib\\site-packages\\setuptools\\command\\install.py:34: SetuptoolsDeprecationWarning: setup.py install is deprecated. Use build and pip and other standards-based tools.\n",
      "    warnings.warn(\n",
      "  running build\n",
      "  running build_py\n",
      "  creating build\n",
      "  creating build\\lib.win-amd64-3.8\n",
      "  creating build\\lib.win-amd64-3.8\\rvlib\n",
      "  copying rvlib\\specials.py -> build\\lib.win-amd64-3.8\\rvlib\n",
      "  copying rvlib\\univariate.py -> build\\lib.win-amd64-3.8\\rvlib\n",
      "  copying rvlib\\version.py -> build\\lib.win-amd64-3.8\\rvlib\n",
      "  copying rvlib\\__init__.py -> build\\lib.win-amd64-3.8\\rvlib\n",
      "  running egg_info\n",
      "  writing rvlib.egg-info\\PKG-INFO\n",
      "  writing dependency_links to rvlib.egg-info\\dependency_links.txt\n",
      "  writing requirements to rvlib.egg-info\\requires.txt\n",
      "  writing top-level names to rvlib.egg-info\\top_level.txt\n",
      "  reading manifest file 'rvlib.egg-info\\SOURCES.txt'\n",
      "  reading manifest template 'MANIFEST.in'\n",
      "  adding license file 'LICENSE.txt'\n",
      "  writing manifest file 'rvlib.egg-info\\SOURCES.txt'\n",
      "  copying rvlib\\metadata.yaml -> build\\lib.win-amd64-3.8\\rvlib\n",
      "  running build_ext\n",
      "  generating cffi module 'build\\\\temp.win-amd64-3.8\\\\Release\\\\rvlib._rmath_ffi.c'\n",
      "  creating build\\temp.win-amd64-3.8\n",
      "  creating build\\temp.win-amd64-3.8\\Release\n",
      "  building 'rvlib._rmath_ffi' extension\n",
      "  error: Microsoft Visual C++ 14.0 or greater is required. Get it with \"Microsoft C++ Build Tools\": https://visualstudio.microsoft.com/visual-cpp-build-tools/\n",
      "  [end of output]\n",
      "  \n",
      "  note: This error originates from a subprocess, and is likely not a problem with pip.\n",
      "error: legacy-install-failure\n",
      "\n",
      "Encountered error while trying to install package.\n",
      "\n",
      "rvlib\n",
      "\n",
      "note: This is an issue with the package mentioned above, not pip.\n",
      "hint: See above for output from the failure.\n"
     ]
    }
   ],
   "source": [
    "!pip install pysal==2.7.0\n"
   ]
  },
  {
   "cell_type": "code",
   "execution_count": null,
   "id": "1c3eea32",
   "metadata": {},
   "outputs": [],
   "source": [
    "!pip install spreg"
   ]
  },
  {
   "cell_type": "code",
   "execution_count": null,
   "id": "3943217f",
   "metadata": {},
   "outputs": [],
   "source": [
    "!pip install mapclassify "
   ]
  },
  {
   "cell_type": "code",
   "execution_count": null,
   "id": "07d58350",
   "metadata": {},
   "outputs": [],
   "source": [
    "!pip install pandas"
   ]
  },
  {
   "cell_type": "code",
   "execution_count": null,
   "id": "069ba08a",
   "metadata": {},
   "outputs": [],
   "source": [
    "!pip install numpy"
   ]
  },
  {
   "cell_type": "code",
   "execution_count": null,
   "id": "430d175f",
   "metadata": {},
   "outputs": [],
   "source": [
    "!pip install fiona"
   ]
  },
  {
   "cell_type": "code",
   "execution_count": 26,
   "id": "ba1fb55a",
   "metadata": {},
   "outputs": [
    {
     "name": "stdout",
     "output_type": "stream",
     "text": [
      "Requirement already satisfied: geopandas in c:\\users\\zahra\\anaconda3\\envs\\egm2022\\lib\\site-packages (0.9.0)\n",
      "Requirement already satisfied: fiona>=1.8 in c:\\users\\zahra\\anaconda3\\envs\\egm2022\\lib\\site-packages (from geopandas) (1.8.18)\n",
      "Requirement already satisfied: pyproj>=2.2.0 in c:\\users\\zahra\\anaconda3\\envs\\egm2022\\lib\\site-packages (from geopandas) (3.1.0)\n",
      "Requirement already satisfied: shapely>=1.6 in c:\\users\\zahra\\anaconda3\\envs\\egm2022\\lib\\site-packages (from geopandas) (1.8.0)\n",
      "Requirement already satisfied: pandas>=0.24.0 in c:\\users\\zahra\\anaconda3\\envs\\egm2022\\lib\\site-packages (from geopandas) (1.3.5)\n",
      "Requirement already satisfied: attrs>=17 in c:\\users\\zahra\\anaconda3\\envs\\egm2022\\lib\\site-packages (from fiona>=1.8->geopandas) (21.4.0)\n",
      "Requirement already satisfied: certifi in c:\\users\\zahra\\anaconda3\\envs\\egm2022\\lib\\site-packages (from fiona>=1.8->geopandas) (2022.6.15)\n",
      "Requirement already satisfied: click<8,>=4.0 in c:\\users\\zahra\\anaconda3\\envs\\egm2022\\lib\\site-packages (from fiona>=1.8->geopandas) (7.1.2)\n",
      "Requirement already satisfied: cligj>=0.5 in c:\\users\\zahra\\anaconda3\\envs\\egm2022\\lib\\site-packages (from fiona>=1.8->geopandas) (0.7.2)\n",
      "Requirement already satisfied: click-plugins>=1.0 in c:\\users\\zahra\\anaconda3\\envs\\egm2022\\lib\\site-packages (from fiona>=1.8->geopandas) (1.1.1)\n",
      "Requirement already satisfied: six>=1.7 in c:\\users\\zahra\\anaconda3\\envs\\egm2022\\lib\\site-packages (from fiona>=1.8->geopandas) (1.16.0)\n",
      "Requirement already satisfied: munch in c:\\users\\zahra\\anaconda3\\envs\\egm2022\\lib\\site-packages (from fiona>=1.8->geopandas) (2.5.0)\n",
      "Requirement already satisfied: numpy>=1.17.3 in c:\\users\\zahra\\anaconda3\\envs\\egm2022\\lib\\site-packages (from pandas>=0.24.0->geopandas) (1.22.3)\n",
      "Requirement already satisfied: pytz>=2017.3 in c:\\users\\zahra\\anaconda3\\envs\\egm2022\\lib\\site-packages (from pandas>=0.24.0->geopandas) (2022.1)\n",
      "Requirement already satisfied: python-dateutil>=2.7.3 in c:\\users\\zahra\\anaconda3\\envs\\egm2022\\lib\\site-packages (from pandas>=0.24.0->geopandas) (2.8.0)\n"
     ]
    }
   ],
   "source": [
    "! pip install geopandas"
   ]
  },
  {
   "cell_type": "code",
   "execution_count": null,
   "id": "31d16d73",
   "metadata": {
    "scrolled": true
   },
   "outputs": [],
   "source": [
    "!pip install fiona"
   ]
  },
  {
   "cell_type": "code",
   "execution_count": null,
   "id": "20af2cf7",
   "metadata": {},
   "outputs": [],
   "source": [
    "!pip install spreg\n"
   ]
  },
  {
   "cell_type": "code",
   "execution_count": null,
   "id": "e1878be8",
   "metadata": {
    "scrolled": false
   },
   "outputs": [],
   "source": [
    "!pip install pysal spreg"
   ]
  },
  {
   "cell_type": "code",
   "execution_count": null,
   "id": "de23c695",
   "metadata": {},
   "outputs": [],
   "source": [
    "!pip install spreg"
   ]
  },
  {
   "cell_type": "code",
   "execution_count": 28,
   "id": "ff9b9bfc",
   "metadata": {},
   "outputs": [
    {
     "ename": "ModuleNotFoundError",
     "evalue": "No module named 'pysal.spreg'",
     "output_type": "error",
     "traceback": [
      "\u001b[1;31m---------------------------------------------------------------------------\u001b[0m",
      "\u001b[1;31mModuleNotFoundError\u001b[0m                       Traceback (most recent call last)",
      "Input \u001b[1;32mIn [28]\u001b[0m, in \u001b[0;36m<cell line: 27>\u001b[1;34m()\u001b[0m\n\u001b[0;32m     23\u001b[0m \u001b[38;5;28;01mfrom\u001b[39;00m \u001b[38;5;21;01mfolium\u001b[39;00m\u001b[38;5;21;01m.\u001b[39;00m\u001b[38;5;21;01mplugins\u001b[39;00m \u001b[38;5;28;01mimport\u001b[39;00m HeatMap, MarkerCluster, FastMarkerCluster\n\u001b[0;32m     26\u001b[0m \u001b[38;5;28;01mimport\u001b[39;00m \u001b[38;5;21;01mpysal\u001b[39;00m\n\u001b[1;32m---> 27\u001b[0m \u001b[38;5;28;01mfrom\u001b[39;00m \u001b[38;5;21;01mpysal\u001b[39;00m\u001b[38;5;21;01m.\u001b[39;00m\u001b[38;5;21;01mspreg\u001b[39;00m \u001b[38;5;28;01mimport\u001b[39;00m ols\n\u001b[0;32m     28\u001b[0m \u001b[38;5;28;01mfrom\u001b[39;00m \u001b[38;5;21;01mpysal\u001b[39;00m\u001b[38;5;21;01m.\u001b[39;00m\u001b[38;5;21;01mspreg\u001b[39;00m \u001b[38;5;28;01mimport\u001b[39;00m ml_error\n\u001b[0;32m     29\u001b[0m \u001b[38;5;28;01mfrom\u001b[39;00m \u001b[38;5;21;01mpysal\u001b[39;00m\u001b[38;5;21;01m.\u001b[39;00m\u001b[38;5;21;01mspreg\u001b[39;00m \u001b[38;5;28;01mimport\u001b[39;00m ml_lag\n",
      "\u001b[1;31mModuleNotFoundError\u001b[0m: No module named 'pysal.spreg'"
     ]
    }
   ],
   "source": [
    "import os\n",
    "import pandas as pd\n",
    "import numpy as np\n",
    "import fiona\n",
    "import shapely\n",
    "from shapely.geometry import Point, Polygon\n",
    "import seaborn as sns\n",
    "sns.set_style(\"darkgrid\")\n",
    "import matplotlib\n",
    "import matplotlib.pyplot as plt\n",
    "import matplotlib.image as mpimg\n",
    "from matplotlib import gridspec\n",
    "%matplotlib inline\n",
    "from geopandas import GeoDataFrame\n",
    "from scipy import stats\n",
    "from IPython.display import IFrame\n",
    "import folium\n",
    "from folium import plugins\n",
    "from folium.plugins import HeatMap, MarkerCluster, FastMarkerCluster\n",
    "import pysal\n",
    "from pysal.spreg import ols\n",
    "from pysal.spreg import ml_error\n",
    "from pysal.spreg import ml_lag\n"
   ]
  },
  {
   "cell_type": "code",
   "execution_count": null,
   "id": "04e45c5e",
   "metadata": {},
   "outputs": [],
   "source": [
    "#Read the data"
   ]
  },
  {
   "cell_type": "code",
   "execution_count": 9,
   "id": "276bcdc9",
   "metadata": {},
   "outputs": [
    {
     "data": {
      "text/plain": [
       "(13640, 12)"
      ]
     },
     "execution_count": 9,
     "metadata": {},
     "output_type": "execute_result"
    }
   ],
   "source": [
    "imd=pd.read_csv('C:\\\\Users\\\\zahra\\\\Desktop\\\\programming_projectpp\\\\crime_data_NI.csv')\n",
    "# use TextFileReader iterable with chunks of 100,000 rows.\n",
    "tp = pd.read_csv('C:\\\\Users\\\\zahra\\\\Desktop\\\\programming_projectpp\\\\crime_data_NI.csv', iterator=True, chunksize=100000)  \n",
    "crime_data = pd.concat(tp, ignore_index=True)  \n",
    "# print data shape\n",
    "crime_data.shape"
   ]
  },
  {
   "cell_type": "code",
   "execution_count": 10,
   "id": "4a8d34e8",
   "metadata": {},
   "outputs": [
    {
     "data": {
      "text/html": [
       "<div>\n",
       "<style scoped>\n",
       "    .dataframe tbody tr th:only-of-type {\n",
       "        vertical-align: middle;\n",
       "    }\n",
       "\n",
       "    .dataframe tbody tr th {\n",
       "        vertical-align: top;\n",
       "    }\n",
       "\n",
       "    .dataframe thead th {\n",
       "        text-align: right;\n",
       "    }\n",
       "</style>\n",
       "<table border=\"1\" class=\"dataframe\">\n",
       "  <thead>\n",
       "    <tr style=\"text-align: right;\">\n",
       "      <th></th>\n",
       "      <th>Longitude</th>\n",
       "      <th>Latitude</th>\n",
       "      <th>LSOA code</th>\n",
       "      <th>LSOA name</th>\n",
       "      <th>Last outcome category</th>\n",
       "      <th>Context</th>\n",
       "    </tr>\n",
       "  </thead>\n",
       "  <tbody>\n",
       "    <tr>\n",
       "      <th>count</th>\n",
       "      <td>13482.000000</td>\n",
       "      <td>13482.000000</td>\n",
       "      <td>0.0</td>\n",
       "      <td>0.0</td>\n",
       "      <td>0.0</td>\n",
       "      <td>0.0</td>\n",
       "    </tr>\n",
       "    <tr>\n",
       "      <th>mean</th>\n",
       "      <td>-6.273235</td>\n",
       "      <td>54.617281</td>\n",
       "      <td>NaN</td>\n",
       "      <td>NaN</td>\n",
       "      <td>NaN</td>\n",
       "      <td>NaN</td>\n",
       "    </tr>\n",
       "    <tr>\n",
       "      <th>std</th>\n",
       "      <td>0.523137</td>\n",
       "      <td>0.234035</td>\n",
       "      <td>NaN</td>\n",
       "      <td>NaN</td>\n",
       "      <td>NaN</td>\n",
       "      <td>NaN</td>\n",
       "    </tr>\n",
       "    <tr>\n",
       "      <th>min</th>\n",
       "      <td>-8.106383</td>\n",
       "      <td>54.026858</td>\n",
       "      <td>NaN</td>\n",
       "      <td>NaN</td>\n",
       "      <td>NaN</td>\n",
       "      <td>NaN</td>\n",
       "    </tr>\n",
       "    <tr>\n",
       "      <th>25%</th>\n",
       "      <td>-6.514310</td>\n",
       "      <td>54.504238</td>\n",
       "      <td>NaN</td>\n",
       "      <td>NaN</td>\n",
       "      <td>NaN</td>\n",
       "      <td>NaN</td>\n",
       "    </tr>\n",
       "    <tr>\n",
       "      <th>50%</th>\n",
       "      <td>-6.025781</td>\n",
       "      <td>54.597057</td>\n",
       "      <td>NaN</td>\n",
       "      <td>NaN</td>\n",
       "      <td>NaN</td>\n",
       "      <td>NaN</td>\n",
       "    </tr>\n",
       "    <tr>\n",
       "      <th>75%</th>\n",
       "      <td>-5.925360</td>\n",
       "      <td>54.710171</td>\n",
       "      <td>NaN</td>\n",
       "      <td>NaN</td>\n",
       "      <td>NaN</td>\n",
       "      <td>NaN</td>\n",
       "    </tr>\n",
       "    <tr>\n",
       "      <th>max</th>\n",
       "      <td>-5.450219</td>\n",
       "      <td>55.236302</td>\n",
       "      <td>NaN</td>\n",
       "      <td>NaN</td>\n",
       "      <td>NaN</td>\n",
       "      <td>NaN</td>\n",
       "    </tr>\n",
       "  </tbody>\n",
       "</table>\n",
       "</div>"
      ],
      "text/plain": [
       "          Longitude      Latitude  LSOA code  LSOA name  \\\n",
       "count  13482.000000  13482.000000        0.0        0.0   \n",
       "mean      -6.273235     54.617281        NaN        NaN   \n",
       "std        0.523137      0.234035        NaN        NaN   \n",
       "min       -8.106383     54.026858        NaN        NaN   \n",
       "25%       -6.514310     54.504238        NaN        NaN   \n",
       "50%       -6.025781     54.597057        NaN        NaN   \n",
       "75%       -5.925360     54.710171        NaN        NaN   \n",
       "max       -5.450219     55.236302        NaN        NaN   \n",
       "\n",
       "       Last outcome category  Context  \n",
       "count                    0.0      0.0  \n",
       "mean                     NaN      NaN  \n",
       "std                      NaN      NaN  \n",
       "min                      NaN      NaN  \n",
       "25%                      NaN      NaN  \n",
       "50%                      NaN      NaN  \n",
       "75%                      NaN      NaN  \n",
       "max                      NaN      NaN  "
      ]
     },
     "execution_count": 10,
     "metadata": {},
     "output_type": "execute_result"
    }
   ],
   "source": [
    "imd.describe()"
   ]
  },
  {
   "cell_type": "code",
   "execution_count": null,
   "id": "b0114337",
   "metadata": {},
   "outputs": [],
   "source": [
    "#Data cleaning for Crime Data"
   ]
  },
  {
   "cell_type": "code",
   "execution_count": 11,
   "id": "a4beca91",
   "metadata": {},
   "outputs": [
    {
     "name": "stdout",
     "output_type": "stream",
     "text": [
      "<class 'pandas.core.frame.DataFrame'>\n",
      "RangeIndex: 13640 entries, 0 to 13639\n",
      "Data columns (total 12 columns):\n",
      " #   Column                 Non-Null Count  Dtype  \n",
      "---  ------                 --------------  -----  \n",
      " 0   Crime ID               9502 non-null   object \n",
      " 1   Month                  13640 non-null  object \n",
      " 2   Reported by            13640 non-null  object \n",
      " 3   Falls within           13640 non-null  object \n",
      " 4   Longitude              13482 non-null  float64\n",
      " 5   Latitude               13482 non-null  float64\n",
      " 6   Location               13640 non-null  object \n",
      " 7   LSOA code              0 non-null      float64\n",
      " 8   LSOA name              0 non-null      float64\n",
      " 9   Crime type             13640 non-null  object \n",
      " 10  Last outcome category  0 non-null      float64\n",
      " 11  Context                0 non-null      float64\n",
      "dtypes: float64(6), object(6)\n",
      "memory usage: 1.2+ MB\n"
     ]
    }
   ],
   "source": [
    "# view the basic stats on columns\n",
    "crime_data.info()"
   ]
  },
  {
   "cell_type": "code",
   "execution_count": 12,
   "id": "6c899066",
   "metadata": {},
   "outputs": [
    {
     "data": {
      "text/plain": [
       "Index(['Crime ID', 'Month', 'Longitude', 'Latitude', 'LSOA code', 'LSOA name',\n",
       "       'Crime type'],\n",
       "      dtype='object')"
      ]
     },
     "execution_count": 12,
     "metadata": {},
     "output_type": "execute_result"
    }
   ],
   "source": [
    "crime_data.drop(['Context', 'Falls within','Reported by',  'Location','Last outcome category' ], inplace=True, axis=1)\n",
    "# show dataframe columns\n",
    "crime_data.columns"
   ]
  },
  {
   "cell_type": "code",
   "execution_count": 13,
   "id": "72bc04fe",
   "metadata": {},
   "outputs": [
    {
     "data": {
      "text/html": [
       "<div>\n",
       "<style scoped>\n",
       "    .dataframe tbody tr th:only-of-type {\n",
       "        vertical-align: middle;\n",
       "    }\n",
       "\n",
       "    .dataframe tbody tr th {\n",
       "        vertical-align: top;\n",
       "    }\n",
       "\n",
       "    .dataframe thead th {\n",
       "        text-align: right;\n",
       "    }\n",
       "</style>\n",
       "<table border=\"1\" class=\"dataframe\">\n",
       "  <thead>\n",
       "    <tr style=\"text-align: right;\">\n",
       "      <th></th>\n",
       "      <th>ID</th>\n",
       "      <th>Month</th>\n",
       "      <th>lat</th>\n",
       "      <th>lon</th>\n",
       "      <th>code</th>\n",
       "      <th>name</th>\n",
       "      <th>type</th>\n",
       "    </tr>\n",
       "  </thead>\n",
       "  <tbody>\n",
       "    <tr>\n",
       "      <th>0</th>\n",
       "      <td>NaN</td>\n",
       "      <td>2022-06</td>\n",
       "      <td>-6.331321</td>\n",
       "      <td>54.289037</td>\n",
       "      <td>NaN</td>\n",
       "      <td>NaN</td>\n",
       "      <td>Anti-social behaviour</td>\n",
       "    </tr>\n",
       "    <tr>\n",
       "      <th>1</th>\n",
       "      <td>NaN</td>\n",
       "      <td>2022-06</td>\n",
       "      <td>-6.794973</td>\n",
       "      <td>54.447499</td>\n",
       "      <td>NaN</td>\n",
       "      <td>NaN</td>\n",
       "      <td>Anti-social behaviour</td>\n",
       "    </tr>\n",
       "    <tr>\n",
       "      <th>2</th>\n",
       "      <td>NaN</td>\n",
       "      <td>2022-06</td>\n",
       "      <td>-6.336740</td>\n",
       "      <td>54.455013</td>\n",
       "      <td>NaN</td>\n",
       "      <td>NaN</td>\n",
       "      <td>Anti-social behaviour</td>\n",
       "    </tr>\n",
       "    <tr>\n",
       "      <th>3</th>\n",
       "      <td>NaN</td>\n",
       "      <td>2022-06</td>\n",
       "      <td>-7.287115</td>\n",
       "      <td>54.974280</td>\n",
       "      <td>NaN</td>\n",
       "      <td>NaN</td>\n",
       "      <td>Anti-social behaviour</td>\n",
       "    </tr>\n",
       "  </tbody>\n",
       "</table>\n",
       "</div>"
      ],
      "text/plain": [
       "    ID    Month       lat        lon  code  name                   type\n",
       "0  NaN  2022-06 -6.331321  54.289037   NaN   NaN  Anti-social behaviour\n",
       "1  NaN  2022-06 -6.794973  54.447499   NaN   NaN  Anti-social behaviour\n",
       "2  NaN  2022-06 -6.336740  54.455013   NaN   NaN  Anti-social behaviour\n",
       "3  NaN  2022-06 -7.287115  54.974280   NaN   NaN  Anti-social behaviour"
      ]
     },
     "execution_count": 13,
     "metadata": {},
     "output_type": "execute_result"
    }
   ],
   "source": [
    "# Now check the name of the fields and rename the columns by more python recognized names...\n",
    "colnames = ['ID','Month','lat','lon','code','name','type']\n",
    "crime_data.columns = colnames\n",
    "crime_data.head(4)"
   ]
  },
  {
   "cell_type": "code",
   "execution_count": 14,
   "id": "5c0c584c",
   "metadata": {},
   "outputs": [
    {
     "data": {
      "text/plain": [
       "(array(['Anti-social behaviour', 'Bicycle theft', 'Burglary',\n",
       "        'Criminal damage and arson', 'Drugs', 'Other crime', 'Other theft',\n",
       "        'Possession of weapons', 'Public order', 'Robbery', 'Shoplifting',\n",
       "        'Theft from the person', 'Vehicle crime',\n",
       "        'Violence and sexual offences'], dtype=object),\n",
       " 14)"
      ]
     },
     "execution_count": 14,
     "metadata": {},
     "output_type": "execute_result"
    }
   ],
   "source": [
    "# print all crime variables in the \"type\" column\n",
    "crimes = crime_data['type'].sort_values().unique()\n",
    "crimes, len(crimes)"
   ]
  },
  {
   "cell_type": "code",
   "execution_count": 15,
   "id": "c96e4493",
   "metadata": {},
   "outputs": [
    {
     "data": {
      "text/plain": [
       "Violence and sexual offences    4716\n",
       "Anti-social behaviour           4138\n",
       "Criminal damage and arson       1429\n",
       "Other theft                      837\n",
       "Drugs                            661\n",
       "Shoplifting                      647\n",
       "Burglary                         327\n",
       "Other crime                      270\n",
       "Vehicle crime                    227\n",
       "Possession of weapons            112\n",
       "Public order                     100\n",
       "Bicycle theft                     93\n",
       "Robbery                           43\n",
       "Theft from the person             40\n",
       "Name: type, dtype: int64"
      ]
     },
     "execution_count": 15,
     "metadata": {},
     "output_type": "execute_result"
    }
   ],
   "source": [
    "# for examples, lets check out the column 'crime type'\n",
    "crime_data.type.value_counts()"
   ]
  },
  {
   "cell_type": "code",
   "execution_count": null,
   "id": "701e5614",
   "metadata": {},
   "outputs": [],
   "source": [
    "#Explore the most prevalent crime types"
   ]
  },
  {
   "cell_type": "code",
   "execution_count": 16,
   "id": "1dc1a816",
   "metadata": {},
   "outputs": [
    {
     "data": {
      "text/html": [
       "<div>\n",
       "<style scoped>\n",
       "    .dataframe tbody tr th:only-of-type {\n",
       "        vertical-align: middle;\n",
       "    }\n",
       "\n",
       "    .dataframe tbody tr th {\n",
       "        vertical-align: top;\n",
       "    }\n",
       "\n",
       "    .dataframe thead th {\n",
       "        text-align: right;\n",
       "    }\n",
       "</style>\n",
       "<table border=\"1\" class=\"dataframe\">\n",
       "  <thead>\n",
       "    <tr style=\"text-align: right;\">\n",
       "      <th></th>\n",
       "      <th>type</th>\n",
       "      <th>count</th>\n",
       "    </tr>\n",
       "  </thead>\n",
       "  <tbody>\n",
       "    <tr>\n",
       "      <th>0</th>\n",
       "      <td>Violence and sexual offences</td>\n",
       "      <td>4716</td>\n",
       "    </tr>\n",
       "    <tr>\n",
       "      <th>1</th>\n",
       "      <td>Anti-social behaviour</td>\n",
       "      <td>4138</td>\n",
       "    </tr>\n",
       "    <tr>\n",
       "      <th>2</th>\n",
       "      <td>Criminal damage and arson</td>\n",
       "      <td>1429</td>\n",
       "    </tr>\n",
       "    <tr>\n",
       "      <th>3</th>\n",
       "      <td>Other theft</td>\n",
       "      <td>837</td>\n",
       "    </tr>\n",
       "    <tr>\n",
       "      <th>4</th>\n",
       "      <td>Drugs</td>\n",
       "      <td>661</td>\n",
       "    </tr>\n",
       "    <tr>\n",
       "      <th>5</th>\n",
       "      <td>Shoplifting</td>\n",
       "      <td>647</td>\n",
       "    </tr>\n",
       "    <tr>\n",
       "      <th>6</th>\n",
       "      <td>Burglary</td>\n",
       "      <td>327</td>\n",
       "    </tr>\n",
       "    <tr>\n",
       "      <th>7</th>\n",
       "      <td>Other crime</td>\n",
       "      <td>270</td>\n",
       "    </tr>\n",
       "    <tr>\n",
       "      <th>8</th>\n",
       "      <td>Vehicle crime</td>\n",
       "      <td>227</td>\n",
       "    </tr>\n",
       "    <tr>\n",
       "      <th>9</th>\n",
       "      <td>Possession of weapons</td>\n",
       "      <td>112</td>\n",
       "    </tr>\n",
       "    <tr>\n",
       "      <th>10</th>\n",
       "      <td>Public order</td>\n",
       "      <td>100</td>\n",
       "    </tr>\n",
       "    <tr>\n",
       "      <th>11</th>\n",
       "      <td>Bicycle theft</td>\n",
       "      <td>93</td>\n",
       "    </tr>\n",
       "    <tr>\n",
       "      <th>12</th>\n",
       "      <td>Robbery</td>\n",
       "      <td>43</td>\n",
       "    </tr>\n",
       "    <tr>\n",
       "      <th>13</th>\n",
       "      <td>Theft from the person</td>\n",
       "      <td>40</td>\n",
       "    </tr>\n",
       "  </tbody>\n",
       "</table>\n",
       "</div>"
      ],
      "text/plain": [
       "                            type  count\n",
       "0   Violence and sexual offences   4716\n",
       "1          Anti-social behaviour   4138\n",
       "2      Criminal damage and arson   1429\n",
       "3                    Other theft    837\n",
       "4                          Drugs    661\n",
       "5                    Shoplifting    647\n",
       "6                       Burglary    327\n",
       "7                    Other crime    270\n",
       "8                  Vehicle crime    227\n",
       "9          Possession of weapons    112\n",
       "10                  Public order    100\n",
       "11                 Bicycle theft     93\n",
       "12                       Robbery     43\n",
       "13         Theft from the person     40"
      ]
     },
     "execution_count": 16,
     "metadata": {},
     "output_type": "execute_result"
    }
   ],
   "source": [
    "crime_data_group = crime_data.groupby('type').size().reset_index(name='count')\n",
    "crime_data_sort = crime_data_group.sort_values(['count'], ascending=False).reset_index(drop=True)\n",
    "crime_data_sort"
   ]
  },
  {
   "cell_type": "code",
   "execution_count": 21,
   "id": "cb20cfb2",
   "metadata": {},
   "outputs": [
    {
     "data": {
      "text/plain": [
       "(10283, 7)"
      ]
     },
     "execution_count": 21,
     "metadata": {},
     "output_type": "execute_result"
    }
   ],
   "source": [
    "\n",
    "%matplotlib inline\n",
    "from geopandas import GeoDataFrame\n",
    "in_type=[crime_data_sort['type'][i]for i in range(3)]\n",
    "fillcolors = ['#ff0000','#0000ff','#00ff00']\n",
    "nlst = crime_data[crime_data.type.isin(in_type)].copy() \n",
    "nlst.shape"
   ]
  },
  {
   "cell_type": "code",
   "execution_count": 22,
   "id": "0c1e80df",
   "metadata": {},
   "outputs": [
    {
     "data": {
      "text/plain": [
       "10283"
      ]
     },
     "execution_count": 22,
     "metadata": {},
     "output_type": "execute_result"
    }
   ],
   "source": [
    "nlst['lon'].notnull().count() # check whether they all have longitude data\n",
    "# Your code here to replace the ???\n",
    "nlst['lat'].notnull().count() # check whether they all have latitude data"
   ]
  },
  {
   "cell_type": "code",
   "execution_count": 29,
   "id": "a0037bd5",
   "metadata": {},
   "outputs": [
    {
     "ename": "NameError",
     "evalue": "name 'gpd' is not defined",
     "output_type": "error",
     "traceback": [
      "\u001b[1;31m---------------------------------------------------------------------------\u001b[0m",
      "\u001b[1;31mNameError\u001b[0m                                 Traceback (most recent call last)",
      "Input \u001b[1;32mIn [29]\u001b[0m, in \u001b[0;36m<cell line: 1>\u001b[1;34m()\u001b[0m\n\u001b[1;32m----> 1\u001b[0m new_gdb \u001b[38;5;241m=\u001b[39m \u001b[43mgpd\u001b[49m\u001b[38;5;241m.\u001b[39mGeoSeries(nlst[[\u001b[38;5;124m'\u001b[39m\u001b[38;5;124mlon\u001b[39m\u001b[38;5;124m'\u001b[39m, \u001b[38;5;124m'\u001b[39m\u001b[38;5;124mlat\u001b[39m\u001b[38;5;124m'\u001b[39m]]\u001b[38;5;241m.\u001b[39mapply(Point, axis\u001b[38;5;241m=\u001b[39m\u001b[38;5;241m1\u001b[39m), crs\u001b[38;5;241m=\u001b[39m\u001b[38;5;124m\"\u001b[39m\u001b[38;5;124m+init=epsg:4326\u001b[39m\u001b[38;5;124m\"\u001b[39m)\n\u001b[0;32m      2\u001b[0m bbox \u001b[38;5;241m=\u001b[39m new_gdb\u001b[38;5;241m.\u001b[39mtotal_bounds\n\u001b[0;32m      3\u001b[0m titles\u001b[38;5;241m=\u001b[39m[\u001b[38;5;124m\"\u001b[39m\u001b[38;5;124mKernel Density: \u001b[39m\u001b[38;5;124m\"\u001b[39m\u001b[38;5;241m+\u001b[39min_type[i] \u001b[38;5;28;01mfor\u001b[39;00m i \u001b[38;5;129;01min\u001b[39;00m \u001b[38;5;28mrange\u001b[39m(\u001b[38;5;241m3\u001b[39m)]\n",
      "\u001b[1;31mNameError\u001b[0m: name 'gpd' is not defined"
     ]
    }
   ],
   "source": [
    "\n",
    "\n",
    "new_gdb = gpd.GeoSeries(nlst[['lon', 'lat']].apply(Point, axis=1), crs=\"+init=epsg:4326\")\n",
    "bbox = new_gdb.total_bounds\n",
    "titles=[\"Kernel Density: \"+in_type[i] for i in range(3)]\n",
    "    \n",
    "fig, axs = plt.subplots(2, 2, figsize = (12,12))\n",
    "\n",
    "ax1 = plt.subplot2grid((8,8), (0,0), rowspan=3, colspan=3) \n",
    "ax2 = plt.subplot2grid((8,8), (4,0), rowspan=3, colspan=3)\n",
    "ax3 = plt.subplot2grid((8,8), (0,4), rowspan=3, colspan=3)\n",
    "\n",
    "\n",
    "fig.tight_layout(pad = 0.4, w_pad = 4.0, h_pad = 4.0)\n",
    "ax1.set_title(titles[0], fontsize =16)\n",
    "ax2.set_title(titles[1], fontsize =16)\n",
    "ax3.set_title(titles[2], fontsize =16)\n",
    "\n",
    "ax1.set_xlim(bbox[0], bbox[2])\n",
    "ax1.set_ylim(bbox[1], bbox[3]) \n",
    "ax2.set_xlim(bbox[0], bbox[2])\n",
    "ax2.set_ylim(bbox[1], bbox[3]) \n",
    "ax3.set_xlim(bbox[0], bbox[2])\n",
    "ax3.set_ylim(bbox[1], bbox[3]) \n",
    "\n",
    "# ^The above code sets the x and y limits for each function. Without this, the density maps\n",
    "# are very small and only take up about 20% of the graph space.\n",
    "gdfnew1 = nlst[nlst['type']==in_type[0]]\n",
    "gdfnew2 = nlst[nlst['type']==in_type[1]]\n",
    "gdfnew3 = nlst[nlst['type']==in_type[2]]\n",
    "\n",
    "sns.kdeplot(gdfnew1.lon, gdfnew1.lat, shade = True, cmap = \"Reds\", ax=ax1) \n",
    "sns.kdeplot(gdfnew2.lon, gdfnew2.lat, shade = True, cmap = \"Blues\", ax=ax2)\n",
    "sns.kdeplot(gdfnew3.lon, gdfnew3.lat, shade = True, cmap = \"Greens\", ax=ax3)\n",
    "\n",
    "sns.set(style = \"whitegrid\") # aesthetics\n",
    "sns.despine(left=True) # aesthetics\n",
    "sns.set_context(\"paper\") # aesthetics\n",
    "plt.axis('equal')\n",
    "plt.show()   "
   ]
  },
  {
   "cell_type": "code",
   "execution_count": 24,
   "id": "7e5e9690",
   "metadata": {},
   "outputs": [
    {
     "ename": "NameError",
     "evalue": "name 'gpd' is not defined",
     "output_type": "error",
     "traceback": [
      "\u001b[1;31m---------------------------------------------------------------------------\u001b[0m",
      "\u001b[1;31mNameError\u001b[0m                                 Traceback (most recent call last)",
      "Input \u001b[1;32mIn [24]\u001b[0m, in \u001b[0;36m<cell line: 4>\u001b[1;34m()\u001b[0m\n\u001b[0;32m      2\u001b[0m crs \u001b[38;5;241m=\u001b[39m {\u001b[38;5;124m'\u001b[39m\u001b[38;5;124minit\u001b[39m\u001b[38;5;124m'\u001b[39m:\u001b[38;5;124m'\u001b[39m\u001b[38;5;124mepsg:4326\u001b[39m\u001b[38;5;124m'\u001b[39m}\n\u001b[0;32m      3\u001b[0m geometry \u001b[38;5;241m=\u001b[39m [shapely\u001b[38;5;241m.\u001b[39mgeometry\u001b[38;5;241m.\u001b[39mPoint(xy) \u001b[38;5;28;01mfor\u001b[39;00m xy \u001b[38;5;129;01min\u001b[39;00m \u001b[38;5;28mzip\u001b[39m(crime_data[\u001b[38;5;124m'\u001b[39m\u001b[38;5;124mlon\u001b[39m\u001b[38;5;124m'\u001b[39m], crime_data[\u001b[38;5;124m'\u001b[39m\u001b[38;5;124mlat\u001b[39m\u001b[38;5;124m'\u001b[39m])]\n\u001b[1;32m----> 4\u001b[0m geo_df \u001b[38;5;241m=\u001b[39m \u001b[43mgpd\u001b[49m\u001b[38;5;241m.\u001b[39mGeoDataFrame(crime_data,\n\u001b[0;32m      5\u001b[0m                                crs \u001b[38;5;241m=\u001b[39m crs,\n\u001b[0;32m      6\u001b[0m                                geometry \u001b[38;5;241m=\u001b[39m geometry)\n\u001b[0;32m      7\u001b[0m \u001b[38;5;66;03m# Convert geometry to OSGB36 EPSG: 27700\u001b[39;00m\n\u001b[0;32m      8\u001b[0m geo_df_new \u001b[38;5;241m=\u001b[39m geo_df\u001b[38;5;241m.\u001b[39mto_crs(epsg \u001b[38;5;241m=\u001b[39m \u001b[38;5;241m27700\u001b[39m)\n",
      "\u001b[1;31mNameError\u001b[0m: name 'gpd' is not defined"
     ]
    }
   ],
   "source": [
    "# Set up geodataframe, initially with CRS = WGS84 (since that matches the lon and lat co-ordinates)\n",
    "crs = {'init':'epsg:4326'}\n",
    "geometry = [shapely.geometry.Point(xy) for xy in zip(crime_data['lon'], crime_data['lat'])]\n",
    "geo_df = gpd.GeoDataFrame(crime_data,\n",
    "                               crs = crs,\n",
    "                               geometry = geometry)\n",
    "# Convert geometry to OSGB36 EPSG: 27700\n",
    "geo_df_new = geo_df.to_crs(epsg = 27700)\n",
    "# convert the .csv file into .shp file \n",
    "geo_df_new.to_file(driver='ESRI Shapefile', filename='crime_data.shp')"
   ]
  },
  {
   "cell_type": "code",
   "execution_count": 25,
   "id": "224c78a1",
   "metadata": {},
   "outputs": [
    {
     "ename": "NameError",
     "evalue": "name 'geo_df_new' is not defined",
     "output_type": "error",
     "traceback": [
      "\u001b[1;31m---------------------------------------------------------------------------\u001b[0m",
      "\u001b[1;31mNameError\u001b[0m                                 Traceback (most recent call last)",
      "Input \u001b[1;32mIn [25]\u001b[0m, in \u001b[0;36m<cell line: 12>\u001b[1;34m()\u001b[0m\n\u001b[0;32m     10\u001b[0m ax\u001b[38;5;241m.\u001b[39mget_yaxis()\u001b[38;5;241m.\u001b[39mset_visible(\u001b[38;5;28;01mFalse\u001b[39;00m)\n\u001b[0;32m     11\u001b[0m lims \u001b[38;5;241m=\u001b[39m plt\u001b[38;5;241m.\u001b[39maxis(\u001b[38;5;124m'\u001b[39m\u001b[38;5;124mequal\u001b[39m\u001b[38;5;124m'\u001b[39m)\n\u001b[1;32m---> 12\u001b[0m \u001b[43mgeo_df_new\u001b[49m\u001b[38;5;241m.\u001b[39mplot(ax\u001b[38;5;241m=\u001b[39max)\n\u001b[0;32m     13\u001b[0m plt\u001b[38;5;241m.\u001b[39mshow()\n",
      "\u001b[1;31mNameError\u001b[0m: name 'geo_df_new' is not defined"
     ]
    },
    {
     "data": {
      "image/png": "[encoded data removed]",
      "text/plain": [
       "<Figure size 864x864 with 1 Axes>"
      ]
     },
     "metadata": {},
     "output_type": "display_data"
    }
   ],
   "source": [
    "# Plot map\n",
    "fig, ax = plt.subplots(1,\n",
    "                       figsize = (12,12),\n",
    "                       dpi = 72,\n",
    "                       facecolor = 'pink')\n",
    "\n",
    "ax.set_position([0,0,1,1])   # Puts axis to edge of figure\n",
    "ax.set_axis_off()            # Turns axis off so facecolour applies to axis area as well as bit around the outside\n",
    "ax.get_xaxis().set_visible(False)   # Turns the x axis off so that 'invisible' axis labels don't take up space\n",
    "ax.get_yaxis().set_visible(False)\n",
    "lims = plt.axis('equal')\n",
    "geo_df_new.plot(ax=ax)\n",
    "plt.show()"
   ]
  },
  {
   "cell_type": "code",
   "execution_count": null,
   "id": "801415e4",
   "metadata": {},
   "outputs": [],
   "source": [
    "crime_data.head(4)"
   ]
  },
  {
   "cell_type": "code",
   "execution_count": null,
   "id": "2bf7879d",
   "metadata": {},
   "outputs": [],
   "source": [
    "#importing the polygon map for LGDs"
   ]
  },
  {
   "cell_type": "code",
   "execution_count": null,
   "id": "3ae4ba4a",
   "metadata": {},
   "outputs": [],
   "source": [
    "# draw the LSOA map and set its Coordinate Reference Systems (CRS) into EPSG: 27700.\n",
    "shapelgd=gpd.read_file('C:\\\\Users\\\\zahra\\\\Desktop\\\\programming_projectpp\\\\shapelgd.shp')\n",
    "f, ax = plt.subplots(1, figsize=(12, 12))\n",
    "ax = lsoa.plot(axes=ax);\n",
    "shapelgd.crs = {'init' :'epsg:27700'}\n",
    "plt.show()"
   ]
  },
  {
   "cell_type": "code",
   "execution_count": null,
   "id": "0d68c8f0",
   "metadata": {},
   "outputs": [],
   "source": [
    "# check the lsoa is a GeoDataFrame\n",
    "type(shapelgd)"
   ]
  },
  {
   "cell_type": "code",
   "execution_count": null,
   "id": "c96aead5",
   "metadata": {},
   "outputs": [],
   "source": [
    "# check the labels for columns in lsoa\n",
    "shapelgd.columns"
   ]
  },
  {
   "cell_type": "code",
   "execution_count": null,
   "id": "89da82dd",
   "metadata": {},
   "outputs": [],
   "source": [
    "# make the columns for LSOA data more readable\n",
    "# rename the indicator with full title to help you interpret the columns/indicators\n",
    "lsoa.drop(['objectid', 'lsoa11nmw','st_areasha', 'st_lengths', 'IMD2015_LS', 'IMD2015__1', 'IMD2015_Lo'], inplace=True, axis=1)\n",
    "colnames2 = ['code','name','IMDindex','Income','Employment','Education', 'Health','Subcrime','BarriersHou','LivEnviron','Affect_child', 'Affect_old', 'child_young','Adult_skill','Geobarrier','widerbarrier','indoors', 'outdoors','population','depend_child', 'peo_middle', 'peo_over60', 'work_age','geometry']\n",
    "lsoa.columns = colnames2\n",
    "lsoa.head(4)"
   ]
  },
  {
   "cell_type": "code",
   "execution_count": null,
   "id": "6561a4df",
   "metadata": {},
   "outputs": [],
   "source": [
    "# to visulize both crime points data and lsoa vector data on a map\n",
    "f, ax = plt.subplots(1, figsize=(12, 12))\n",
    "ax.set_axis_off()\n",
    "plt.axis('equal')\n",
    "lsoa.plot(ax=ax, cmap='OrRd', linewidth=0.5, edgecolor='white')\n",
    "geo_df_new.plot(column='type', markersize=3, categorical=True, legend=True, ax=ax)\n",
    "# the legend was set by default to take the first column as labels."
   ]
  },
  {
   "cell_type": "code",
   "execution_count": null,
   "id": "df8d4925",
   "metadata": {},
   "outputs": [],
   "source": [
    "#chloropleth for deprivation index"
   ]
  },
  {
   "cell_type": "code",
   "execution_count": 30,
   "id": "69932c20",
   "metadata": {},
   "outputs": [
    {
     "ename": "NameError",
     "evalue": "name 'shapelgd' is not defined",
     "output_type": "error",
     "traceback": [
      "\u001b[1;31m---------------------------------------------------------------------------\u001b[0m",
      "\u001b[1;31mNameError\u001b[0m                                 Traceback (most recent call last)",
      "Input \u001b[1;32mIn [30]\u001b[0m, in \u001b[0;36m<cell line: 2>\u001b[1;34m()\u001b[0m\n\u001b[0;32m      1\u001b[0m \u001b[38;5;66;03m# Make a Choropleth maps on the deprivation index.\u001b[39;00m\n\u001b[1;32m----> 2\u001b[0m \u001b[43mshapelgd\u001b[49m\u001b[38;5;241m.\u001b[39mplot(column\u001b[38;5;241m=\u001b[39m\u001b[38;5;124m'\u001b[39m\u001b[38;5;124mpc_emp_dep\u001b[39m\u001b[38;5;124m'\u001b[39m, cmap\u001b[38;5;241m=\u001b[39m\u001b[38;5;124m'\u001b[39m\u001b[38;5;124mOrRd\u001b[39m\u001b[38;5;124m'\u001b[39m, scheme\u001b[38;5;241m=\u001b[39m\u001b[38;5;124m'\u001b[39m\u001b[38;5;124mquantiles\u001b[39m\u001b[38;5;124m'\u001b[39m)\n",
      "\u001b[1;31mNameError\u001b[0m: name 'shapelgd' is not defined"
     ]
    }
   ],
   "source": [
    "# Make a Choropleth maps on the deprivation index.\n",
    "shapelgd.plot(column='pc_emp_dep', cmap='OrRd', scheme='quantiles')"
   ]
  },
  {
   "cell_type": "code",
   "execution_count": null,
   "id": "f1f18947",
   "metadata": {},
   "outputs": [],
   "source": [
    "# Please plot series quantile map for 3 sub domain of deprivation indexes you want to explore\n",
    "# e.g. Income, Employment, Education, etc.\n",
    "# Your code here\n",
    "shapelgd.plot(column='popn_dens', cmap='OrRd', scheme='quantiles')"
   ]
  },
  {
   "cell_type": "code",
   "execution_count": null,
   "id": "d8656d3a",
   "metadata": {},
   "outputs": [],
   "source": [
    "shapelgd.plot(column='pc_emp_dep', cmap='OrRd', scheme='quantiles')"
   ]
  },
  {
   "cell_type": "code",
   "execution_count": null,
   "id": "c5080c68",
   "metadata": {},
   "outputs": [],
   "source": [
    "shapelgd.plot(column='age18_64', cmap='OrRd', scheme='quantiles')"
   ]
  },
  {
   "cell_type": "code",
   "execution_count": null,
   "id": "f7853af7",
   "metadata": {},
   "outputs": [],
   "source": [
    "# Make a Choropleth map on crime incidents per lsoa.\n",
    "lsoa.plot(column='Numbers', cmap='coolwarm', scheme='quantiles')"
   ]
  },
  {
   "cell_type": "code",
   "execution_count": null,
   "id": "8cf96329",
   "metadata": {},
   "outputs": [],
   "source": [
    "#crime heat map"
   ]
  },
  {
   "cell_type": "code",
   "execution_count": 31,
   "id": "e751a5ba",
   "metadata": {},
   "outputs": [],
   "source": [
    "crime_data['lat'] = crime_data['lat'].astype(float)\n",
    "crime_data['lon'] = crime_data['lon'].astype(float)\n",
    "\n",
    "# Filter the DF for rows, then columns, then remove NaNs\n",
    "heat_df = crime_data[['lat', 'lon']]\n",
    "heat_df = heat_df.dropna(axis=0, subset=['lat','lon'])\n",
    "\n",
    "# List comprehension to make out list of lists\n",
    "heat_data = [[row['lat'],row['lon']] for index, row in heat_df.iterrows()]\n",
    "\n",
    "heatmap_map = folium.Map([51.50632, -0.1271448], zoom_start=12)\n",
    "\n",
    "# Plot it on the map\n",
    "hm=plugins.HeatMap(heat_data)\n",
    "heatmap_map.add_child(hm)\n",
    "# You save a map as an html file \n",
    "heatmap_map.save(\"heatmap.html\")"
   ]
  },
  {
   "cell_type": "code",
   "execution_count": null,
   "id": "409dc3b4",
   "metadata": {},
   "outputs": [],
   "source": []
  }
 ],
 "metadata": {
  "kernelspec": {
   "display_name": "Python 3 (ipykernel)",
   "language": "python",
   "name": "python3"
  },
  "language_info": {
   "codemirror_mode": {
    "name": "ipython",
    "version": 3
   },
   "file_extension": ".py",
   "mimetype": "text/x-python",
   "name": "python",
   "nbconvert_exporter": "python",
   "pygments_lexer": "ipython3",
   "version": "3.8.8"
  }
 },
 "nbformat": 4,
 "nbformat_minor": 5
}
